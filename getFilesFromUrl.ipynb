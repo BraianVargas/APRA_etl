{
 "cells": [
  {
   "cell_type": "code",
   "execution_count": 1,
   "metadata": {},
   "outputs": [],
   "source": [
    "import requests\n",
    "import pandas as pd\n",
    "from bs4 import BeautifulSoup\n",
    "\n",
    "url = \"https://www.apra.gov.au/monthly-authorised-deposit-taking-institution-statistics\"\n",
    "response = requests.get(url)\n"
   ]
  },
  {
   "cell_type": "code",
   "execution_count": 2,
   "metadata": {},
   "outputs": [],
   "source": [
    "soup = BeautifulSoup(response.content, \"html.parser\")"
   ]
  },
  {
   "cell_type": "code",
   "execution_count": 3,
   "metadata": {},
   "outputs": [
    {
     "name": "stdout",
     "output_type": "stream",
     "text": [
      "['https://www.apra.gov.au/sites/default/files/2023-02/Monthly%20authorised%20deposit-taking%20institution%20statistics%20January%202023.xlsx', 'https://www.apra.gov.au/sites/default/files/2023-02/Monthly%20authorised%20deposit-taking%20institution%20statistics%20back-series%20March%202019%20-%20January%202023.xlsx', 'https://www.apra.gov.au/sites/default/files/monthly_banking_statistics_june_2019_back_series.xlsx']\n"
     ]
    }
   ],
   "source": [
    "excel_links = []\n",
    "\n",
    "for link in soup.find_all(\"a\"):\n",
    "    # https://www.apra.gov.au/sites/default/files/2023-02/Monthly%20authorised%20deposit-taking%20institution%20statistics%20January%202023.xlsx\n",
    "    href = link.get(\"href\")\n",
    "\n",
    "    if href and href.endswith(\".xlsx\"):\n",
    "        excel_links.append(href)\n",
    "    else:\n",
    "        pass\n",
    "\n",
    "\n",
    "# for link in excel_links:\n",
    "#     filename = link.split(\"/\")[-1]\n",
    "#     r = requests.get(link)\n",
    "#     with open(filename, \"wb\") as f:\n",
    "#         f.write(r.content)\n",
    "\n",
    "print(excel_links)"
   ]
  }
 ],
 "metadata": {
  "kernelspec": {
   "display_name": ".venv",
   "language": "python",
   "name": "python3"
  },
  "language_info": {
   "codemirror_mode": {
    "name": "ipython",
    "version": 3
   },
   "file_extension": ".py",
   "mimetype": "text/x-python",
   "name": "python",
   "nbconvert_exporter": "python",
   "pygments_lexer": "ipython3",
   "version": "3.11.0"
  },
  "orig_nbformat": 4,
  "vscode": {
   "interpreter": {
    "hash": "0d1e3e58cd9f58e1fe2d8d3d12b98ed07a00e4c2826a0f1c50275943e49e132d"
   }
  }
 },
 "nbformat": 4,
 "nbformat_minor": 2
}
