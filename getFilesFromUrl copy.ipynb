{
 "cells": [
  {
   "cell_type": "code",
   "execution_count": 2,
   "metadata": {},
   "outputs": [],
   "source": [
    "import requests\n",
    "import pandas as pd\n",
    "from bs4 import BeautifulSoup\n",
    "import os"
   ]
  },
  {
   "cell_type": "code",
   "execution_count": 3,
   "metadata": {},
   "outputs": [],
   "source": [
    "url = \"https://www.apra.gov.au/monthly-authorised-deposit-taking-institution-statistics\"\n",
    "response = requests.get(url)\n",
    "soup = BeautifulSoup(response.content, \"html.parser\")\n",
    "excel_links = []"
   ]
  },
  {
   "cell_type": "code",
   "execution_count": 4,
   "metadata": {},
   "outputs": [
    {
     "name": "stdout",
     "output_type": "stream",
     "text": [
      "['https://www.apra.gov.au/sites/default/files/2023-02/Monthly%20authorised%20deposit-taking%20institution%20statistics%20January%202023.xlsx', 'https://www.apra.gov.au/sites/default/files/2023-02/Monthly%20authorised%20deposit-taking%20institution%20statistics%20back-series%20March%202019%20-%20January%202023.xlsx', 'https://www.apra.gov.au/sites/default/files/monthly_banking_statistics_june_2019_back_series.xlsx']\n"
     ]
    }
   ],
   "source": [
    "for link in soup.find_all(\"a\"):\n",
    "    href = link.get(\"href\")\n",
    "\n",
    "    if href and href.endswith(\".xlsx\"):\n",
    "        excel_links.append(href)\n",
    "    else:\n",
    "        pass\n",
    "print(excel_links)"
   ]
  },
  {
   "cell_type": "code",
   "execution_count": 5,
   "metadata": {},
   "outputs": [],
   "source": [
    "# Creamos las carpetas si no existen\n",
    "if not os.path.exists(\"./data/historical\"):\n",
    "    os.makedirs(\"./data/historical\")\n",
    "if not os.path.exists(\"./data/monthly\"):\n",
    "    os.makedirs(\"./data/monthly\")"
   ]
  },
  {
   "cell_type": "code",
   "execution_count": 6,
   "metadata": {},
   "outputs": [],
   "source": [
    "# Descargamos los archivos y los guardamos en las carpetas correspondientes\n",
    "\n",
    "for i, link in enumerate(excel_links):\n",
    "    response = requests.get(link)\n",
    "    filename = link.split(\"/\")[-1].replace(\"%20\",\"_\")\n",
    "    if i == 1:\n",
    "        path = os.path.join(\"./data/monthly\", filename)\n",
    "    elif i == 2:\n",
    "        path = os.path.join(\"./data/historical\", filename)\n",
    "    else:\n",
    "        continue\n",
    "    with open(path, \"wb\") as f:\n",
    "        f.write(response.content)"
   ]
  }
 ],
 "metadata": {
  "kernelspec": {
   "display_name": ".venv",
   "language": "python",
   "name": "python3"
  },
  "language_info": {
   "codemirror_mode": {
    "name": "ipython",
    "version": 3
   },
   "file_extension": ".py",
   "mimetype": "text/x-python",
   "name": "python",
   "nbconvert_exporter": "python",
   "pygments_lexer": "ipython3",
   "version": "3.11.0"
  },
  "orig_nbformat": 4,
  "vscode": {
   "interpreter": {
    "hash": "0d1e3e58cd9f58e1fe2d8d3d12b98ed07a00e4c2826a0f1c50275943e49e132d"
   }
  }
 },
 "nbformat": 4,
 "nbformat_minor": 2
}
