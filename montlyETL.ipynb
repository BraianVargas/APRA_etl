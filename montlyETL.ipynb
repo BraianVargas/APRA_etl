{
 "cells": [
  {
   "cell_type": "code",
   "execution_count": 12,
   "metadata": {},
   "outputs": [],
   "source": [
    "import pandas as pd\n",
    "from sqlalchemy import create_engine\n",
    "import mysql.connector\n",
    "import click\n",
    "from flask import current_app, g\n",
    "from flask.cli import with_appcontext\n",
    "import os\n"
   ]
  },
  {
   "cell_type": "code",
   "execution_count": 23,
   "metadata": {},
   "outputs": [],
   "source": [
    "\n",
    "def getDB():\n",
    "    db = mysql.connector.connect(\n",
    "        host = \"localhost\",\n",
    "        user = \"root\",\n",
    "        password = \"\",\n",
    "        database = \"apra_etl\",\n",
    "        connect_timeout = 60\n",
    "    )\n",
    "    c = db.cursor(dictionary=True)\n",
    "    return db, c\n"
   ]
  },
  {
   "cell_type": "code",
   "execution_count": 13,
   "metadata": {},
   "outputs": [],
   "source": [
    "def abrev(text):\n",
    "    # Split the text into words\n",
    "    words = text.split()\n",
    "    \n",
    "    # Extract the first letter of each word\n",
    "    initials = [word[0] for word in words]\n",
    "    \n",
    "    # Join the initials together to form the abbreviation\n",
    "    abbreviation = ''.join(initials).upper()\n",
    "    \n",
    "    return abbreviation\n"
   ]
  },
  {
   "cell_type": "code",
   "execution_count": 29,
   "metadata": {},
   "outputs": [],
   "source": [
    "folder = \"./data/monthly/\"\n",
    "files = os.listdir(folder)\n",
    "files = [f for f in files]\n",
    "\n",
    "filename = files[0]\n",
    "df = pd.read_excel(os.path.join(folder,filename), sheet_name='Table 1', skiprows=1)"
   ]
  },
  {
   "cell_type": "code",
   "execution_count": 34,
   "metadata": {},
   "outputs": [],
   "source": [
    "columns = df.columns\n",
    "\n",
    "\n",
    "i = 0\n",
    "for col in columns:\n",
    "    if len(col.split()) > 1:\n",
    "        # Generate an abbreviation for the column name\n",
    "        abbr = abrev(col)\n",
    "        if abbr in df.columns:\n",
    "            i += 1\n",
    "            abbr += f\"_{i}\"\n",
    "            df.rename(columns={col: abbr}, inplace=True)\n",
    "        else:\n",
    "            # Update the DataFrame with the abbreviated column name\n",
    "            df.rename(columns={col: abbr}, inplace=True)\n",
    "\n",
    "# db, c = getDB()"
   ]
  },
  {
   "cell_type": "code",
   "execution_count": 35,
   "metadata": {},
   "outputs": [],
   "source": [
    "try:\n",
    "    engine = create_engine('mysql+mysqlconnector://root@127.0.0.1/apra_etl', connect_args={'connect_timeout': 120})\n",
    "\n",
    "    df.to_sql('datos_mensuales', con=engine, if_exists='replace', chunksize=1000)\n",
    "except Exception as e:\n",
    "    print(e)"
   ]
  }
 ],
 "metadata": {
  "kernelspec": {
   "display_name": ".venv",
   "language": "python",
   "name": "python3"
  },
  "language_info": {
   "codemirror_mode": {
    "name": "ipython",
    "version": 3
   },
   "file_extension": ".py",
   "mimetype": "text/x-python",
   "name": "python",
   "nbconvert_exporter": "python",
   "pygments_lexer": "ipython3",
   "version": "3.11.0"
  },
  "orig_nbformat": 4,
  "vscode": {
   "interpreter": {
    "hash": "d4969e8e08cc12d97fe3d32403f1cb6a3c97ebc49500c9909afa2217cd66f4a0"
   }
  }
 },
 "nbformat": 4,
 "nbformat_minor": 2
}
