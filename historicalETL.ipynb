{
 "cells": [
  {
   "cell_type": "code",
   "execution_count": 1,
   "metadata": {},
   "outputs": [],
   "source": [
    "import pandas as pd\n",
    "from sqlalchemy import create_engine\n",
    "import mysql.connector\n",
    "import click\n",
    "from flask import current_app, g\n",
    "from flask.cli import with_appcontext\n",
    "import os"
   ]
  },
  {
   "cell_type": "code",
   "execution_count": 16,
   "metadata": {},
   "outputs": [],
   "source": [
    "\n",
    "def getDB():\n",
    "    db = mysql.connector.connect(\n",
    "        host = \"localhost\",\n",
    "        user = \"root\",\n",
    "        password = \"\",\n",
    "        database = \"apra_etl\",\n",
    "        connect_timeout = 60\n",
    "    )\n",
    "    c = db.cursor(dictionary=True)\n",
    "    return db, c\n"
   ]
  },
  {
   "cell_type": "code",
   "execution_count": 3,
   "metadata": {},
   "outputs": [],
   "source": [
    "def abrev(text):\n",
    "    words = text.split()\n",
    "    initials = [word[0] for word in words]\n",
    "    abbreviation = ''.join(initials).upper()\n",
    "    \n",
    "    return abbreviation"
   ]
  },
  {
   "cell_type": "code",
   "execution_count": 4,
   "metadata": {},
   "outputs": [],
   "source": [
    "folder = \"./data/historical/\"\n",
    "files = os.listdir(folder)\n",
    "files = [f for f in files]\n",
    "\n",
    "filename = files[0]\n",
    "historical_df = pd.read_excel(os.path.join(folder,filename), sheet_name='Table 1')\n"
   ]
  },
  {
   "cell_type": "code",
   "execution_count": 21,
   "metadata": {},
   "outputs": [],
   "source": [
    "columns = historical_df.columns\n",
    "\n",
    "i = 0\n",
    "for col in columns:\n",
    "    if len(col.split()) > 1:\n",
    "        # Generate an abbreviation for the column name\n",
    "        abbr = abrev(col)\n",
    "        if abbr in historical_df.columns:\n",
    "            i += 1\n",
    "            abbr += f\"_{i}\"\n",
    "        else:\n",
    "            # Update the DataFrame with the abbreviated column name\n",
    "            historical_df.rename(columns={col: abbr}, inplace=True)\n",
    "\n",
    "db, c = getDB()"
   ]
  },
  {
   "cell_type": "code",
   "execution_count": 22,
   "metadata": {},
   "outputs": [],
   "source": [
    "try:\n",
    "    engine = create_engine('mysql+mysqlconnector://root@127.0.0.1/apra_etl', connect_args={'connect_timeout': 120})\n",
    "\n",
    "    historical_df.to_sql('datos_historicos', con=engine, if_exists='replace', chunksize=1000)\n",
    "except Exception as e:\n",
    "    print(e)"
   ]
  }
 ],
 "metadata": {
  "kernelspec": {
   "display_name": ".venv",
   "language": "python",
   "name": "python3"
  },
  "language_info": {
   "codemirror_mode": {
    "name": "ipython",
    "version": 3
   },
   "file_extension": ".py",
   "mimetype": "text/x-python",
   "name": "python",
   "nbconvert_exporter": "python",
   "pygments_lexer": "ipython3",
   "version": "3.11.0"
  },
  "orig_nbformat": 4,
  "vscode": {
   "interpreter": {
    "hash": "d4969e8e08cc12d97fe3d32403f1cb6a3c97ebc49500c9909afa2217cd66f4a0"
   }
  }
 },
 "nbformat": 4,
 "nbformat_minor": 2
}
